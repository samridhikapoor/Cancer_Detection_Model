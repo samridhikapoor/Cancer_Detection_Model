{
  "nbformat": 4,
  "nbformat_minor": 0,
  "metadata": {
    "colab": {
      "name": "Cancer Detection using Neural Networks.ipynb",
      "provenance": [],
      "collapsed_sections": [],
      "include_colab_link": true
    },
    "kernelspec": {
      "name": "python3",
      "display_name": "Python 3"
    },
    "language_info": {
      "name": "python"
    },
    "accelerator": "GPU"
  },
  "cells": [
    {
      "cell_type": "markdown",
      "metadata": {
        "id": "view-in-github",
        "colab_type": "text"
      },
      "source": [
        "<a href=\"https://colab.research.google.com/github/samridhikapoor/Cancer_Detection_Model/blob/main/Cancer_Detection_using_Neural_Networks.ipynb\" target=\"_parent\"><img src=\"https://colab.research.google.com/assets/colab-badge.svg\" alt=\"Open In Colab\"/></a>"
      ]
    },
    {
      "cell_type": "code",
      "metadata": {
        "colab": {
          "base_uri": "https://localhost:8080/"
        },
        "id": "70M1y2HIRQdR",
        "outputId": "82777495-2ada-4109-873b-7f5c9ee0cf85"
      },
      "source": [
        "!wget https://www.dropbox.com/s/78tdjt4a9xdwmcx/archive%20%282%29.zip?dl=0"
      ],
      "execution_count": 35,
      "outputs": [
        {
          "output_type": "stream",
          "text": [
            "--2021-08-19 14:10:51--  https://www.dropbox.com/s/78tdjt4a9xdwmcx/archive%20%282%29.zip?dl=0\n",
            "Resolving www.dropbox.com (www.dropbox.com)... 162.125.3.18, 2620:100:601b:18::a27d:812\n",
            "Connecting to www.dropbox.com (www.dropbox.com)|162.125.3.18|:443... connected.\n",
            "HTTP request sent, awaiting response... 301 Moved Permanently\n",
            "Location: /s/raw/78tdjt4a9xdwmcx/archive%20%282%29.zip [following]\n",
            "--2021-08-19 14:10:52--  https://www.dropbox.com/s/raw/78tdjt4a9xdwmcx/archive%20%282%29.zip\n",
            "Reusing existing connection to www.dropbox.com:443.\n",
            "HTTP request sent, awaiting response... 302 Found\n",
            "Location: https://uc8979481ba377c9674a3a80e695.dl.dropboxusercontent.com/cd/0/inline/BUjhB6KlnB8b4Ft6j07Mgpm_Rv4DgSpTu3UJepZtoM0b_prslLsSQ3IdFt5JglMpx6Ujxo98pqBWou4G7J4ESj7FWb-_GhV3ngs9HW7q-t3ioWQGrEL90yOlT0vgucD2VeAfFBkdwtDUNN6m2pxGwVwa/file# [following]\n",
            "--2021-08-19 14:10:52--  https://uc8979481ba377c9674a3a80e695.dl.dropboxusercontent.com/cd/0/inline/BUjhB6KlnB8b4Ft6j07Mgpm_Rv4DgSpTu3UJepZtoM0b_prslLsSQ3IdFt5JglMpx6Ujxo98pqBWou4G7J4ESj7FWb-_GhV3ngs9HW7q-t3ioWQGrEL90yOlT0vgucD2VeAfFBkdwtDUNN6m2pxGwVwa/file\n",
            "Resolving uc8979481ba377c9674a3a80e695.dl.dropboxusercontent.com (uc8979481ba377c9674a3a80e695.dl.dropboxusercontent.com)... 162.125.3.15, 2620:100:601b:15::a27d:80f\n",
            "Connecting to uc8979481ba377c9674a3a80e695.dl.dropboxusercontent.com (uc8979481ba377c9674a3a80e695.dl.dropboxusercontent.com)|162.125.3.15|:443... connected.\n",
            "HTTP request sent, awaiting response... 302 Found\n",
            "Location: /cd/0/inline2/BUhfdt62wClLgRWF_fpc-NDhvKNTbuWVbKJvL__35XCCO5yZZ7qP_uz1pt__MHKDYQzA3dOpIbS6EaY9yw7qbsywfjtfcPVYJmfF_kp7eXsLGWbFlwM0RDr1MjifInykKKAfYpQADgA2DqpmfKI3C2StgfpKCtXyJ_g8PWPAFNam9fuMaIlmYDKexHRNR083Y1TmpM_j7zXcr-lsmFeFIWN1rX2wCuYQL_1Km1O3xpRGw-Sp3lnLeju6vUj7S4BEB2NEkEal0r17jB2m2Q7bH7xP30aLUmkU6QbX92sdEP3NDo82tBs36pU5Vgi79kP50dFhXNG_s2KUPR56ZBRb8URilHEbWQLfEBHLRh-vX_M-CgOgWyV1SbiXQUfglgIGhLk/file [following]\n",
            "--2021-08-19 14:10:52--  https://uc8979481ba377c9674a3a80e695.dl.dropboxusercontent.com/cd/0/inline2/BUhfdt62wClLgRWF_fpc-NDhvKNTbuWVbKJvL__35XCCO5yZZ7qP_uz1pt__MHKDYQzA3dOpIbS6EaY9yw7qbsywfjtfcPVYJmfF_kp7eXsLGWbFlwM0RDr1MjifInykKKAfYpQADgA2DqpmfKI3C2StgfpKCtXyJ_g8PWPAFNam9fuMaIlmYDKexHRNR083Y1TmpM_j7zXcr-lsmFeFIWN1rX2wCuYQL_1Km1O3xpRGw-Sp3lnLeju6vUj7S4BEB2NEkEal0r17jB2m2Q7bH7xP30aLUmkU6QbX92sdEP3NDo82tBs36pU5Vgi79kP50dFhXNG_s2KUPR56ZBRb8URilHEbWQLfEBHLRh-vX_M-CgOgWyV1SbiXQUfglgIGhLk/file\n",
            "Reusing existing connection to uc8979481ba377c9674a3a80e695.dl.dropboxusercontent.com:443.\n",
            "HTTP request sent, awaiting response... 200 OK\n",
            "Length: 112499141 (107M) [application/zip]\n",
            "Saving to: ‘archive (2).zip?dl=0.1’\n",
            "\n",
            "archive (2).zip?dl= 100%[===================>] 107.29M  62.9MB/s    in 1.7s    \n",
            "\n",
            "2021-08-19 14:10:54 (62.9 MB/s) - ‘archive (2).zip?dl=0.1’ saved [112499141/112499141]\n",
            "\n"
          ],
          "name": "stdout"
        }
      ]
    },
    {
      "cell_type": "code",
      "metadata": {
        "colab": {
          "base_uri": "https://localhost:8080/"
        },
        "id": "MHxDf5uTRaRK",
        "outputId": "a155efff-fc73-4f44-da3b-a39f7e4d692a"
      },
      "source": [
        "!unzip arch*"
      ],
      "execution_count": 36,
      "outputs": [
        {
          "output_type": "stream",
          "text": [
            "Archive:  archive (2).zip?dl=0\n",
            "caution: filename not matched:  archive (2).zip?dl=0.1\n",
            "\n",
            "1 archive had fatal errors.\n"
          ],
          "name": "stdout"
        }
      ]
    },
    {
      "cell_type": "code",
      "metadata": {
        "id": "Jp3Uk1DmRh3z"
      },
      "source": [
        "import pandas as pd\n",
        "import numpy as np\n",
        "import shutil\n",
        "import glob\n",
        "import os\n",
        "import math\n",
        "import warnings\n",
        "warnings.filterwarnings(action=\"ignore\")\n",
        "import matplotlib.pyplot as plt\n",
        "%matplotlib inline\n",
        "import seaborn as sns\n",
        "from sklearn.preprocessing import StandardScaler \n",
        "from sklearn.model_selection import train_test_split \n",
        "from sklearn.metrics import classification_report\n",
        "#tensorflow libraries\n",
        "import tensorflow as tf\n",
        "from tensorflow import keras\n",
        "from tensorflow.keras.models import Sequential\n",
        "from tensorflow.keras.layers import MaxPooling2D, Dense, Dropout,Flatten, Conv2D\n",
        "from tensorflow.keras.optimizers import Adam\n",
        "from tensorflow.keras.losses import SparseCategoricalCrossentropy\n",
        "from keras.preprocessing.image import ImageDataGenerator\n",
        "from tensorflow.keras.callbacks import TensorBoard,EarlyStopping "
      ],
      "execution_count": 37,
      "outputs": []
    },
    {
      "cell_type": "code",
      "metadata": {
        "id": "27wQxT7NRyzf"
      },
      "source": [
        "#count the number of images in the respective classes\n",
        "ROOT_DIR=\"/content/Brain Tumor Data Set/Brain Tumor Data Set\"\n",
        "number_of_images={}\n",
        "for dir in os.listdir(ROOT_DIR):\n",
        "  number_of_images[dir]=len(os.listdir(os.path.join(ROOT_DIR,dir)) )\n"
      ],
      "execution_count": 38,
      "outputs": []
    },
    {
      "cell_type": "code",
      "metadata": {
        "colab": {
          "base_uri": "https://localhost:8080/"
        },
        "id": "7iN63GLOSDOU",
        "outputId": "00a3fc0b-18f6-412c-dead-85ed76ba255b"
      },
      "source": [
        "number_of_images.items()"
      ],
      "execution_count": 39,
      "outputs": [
        {
          "output_type": "execute_result",
          "data": {
            "text/plain": [
              "dict_items([('Healthy', 16), ('Brain Tumor', 17)])"
            ]
          },
          "metadata": {},
          "execution_count": 39
        }
      ]
    },
    {
      "cell_type": "markdown",
      "metadata": {
        "id": "ZlvMOlaqSdfx"
      },
      "source": [
        "We splitted the data in such a way that:-\n",
        "70% for Train(training) data\n",
        "15% for validation\n",
        "15% for testing"
      ]
    },
    {
      "cell_type": "code",
      "metadata": {
        "id": "MZYvmnmqSg5D"
      },
      "source": [
        "def datafolder(p,split):                                                                                                  #Niranjan\n",
        "   #we will create a folder for storing data for train test\n",
        "  if not os.path.exists(\"./\"+p):\n",
        "   os.mkdir(\"./\"+p)\n",
        "\n",
        "   for dir in os.listdir(ROOT_DIR):\n",
        "    os.makedirs(\"./\"+p+\"/\"+dir)\n",
        "    for img in np.random.choice(a=os.listdir(os.path.join(ROOT_DIR, dir)),size=(math.floor(split*number_of_images[dir])-5),replace=False):\n",
        "      O=os.path.join(ROOT_DIR,dir,img)\n",
        "      D=os.path.join(\"./\"+p,dir)\n",
        "      shutil.copy(O,D)\n",
        "      os.remove(O)\n",
        "  else: \n",
        "     print(f\"{p}folder exists\")\n",
        "      "
      ],
      "execution_count": 40,
      "outputs": []
    },
    {
      "cell_type": "code",
      "metadata": {
        "id": "PdfwN9jxS6Gq",
        "colab": {
          "base_uri": "https://localhost:8080/"
        },
        "outputId": "a324eeb5-d938-4eef-ce3a-103fa6896ab4"
      },
      "source": [
        "datafolder(\"train\",0.7)"
      ],
      "execution_count": 41,
      "outputs": [
        {
          "output_type": "stream",
          "text": [
            "trainfolder exists\n"
          ],
          "name": "stdout"
        }
      ]
    },
    {
      "cell_type": "code",
      "metadata": {
        "id": "kfIv2IQ9TBnD",
        "colab": {
          "base_uri": "https://localhost:8080/"
        },
        "outputId": "6c1e8ad6-8187-4e43-b7b0-01c1532272a5"
      },
      "source": [
        "datafolder(\"val\",0.15)"
      ],
      "execution_count": 42,
      "outputs": [
        {
          "output_type": "stream",
          "text": [
            "valfolder exists\n"
          ],
          "name": "stdout"
        }
      ]
    },
    {
      "cell_type": "code",
      "metadata": {
        "id": "CMon1RKGTE81",
        "colab": {
          "base_uri": "https://localhost:8080/"
        },
        "outputId": "7eb950c9-5ee2-4dd7-8e45-256bca41c73e"
      },
      "source": [
        "datafolder(\"test\",0.15)"
      ],
      "execution_count": 43,
      "outputs": [
        {
          "output_type": "stream",
          "text": [
            "testfolder exists\n"
          ],
          "name": "stdout"
        }
      ]
    },
    {
      "cell_type": "markdown",
      "metadata": {
        "id": "pV12ijBATlWH"
      },
      "source": [
        "# MODEL BUILD"
      ]
    },
    {
      "cell_type": "code",
      "metadata": {
        "id": "GluL4kWbTrHP"
      },
      "source": [
        "from keras.layers import Conv2D,MaxPool2D,Dropout,Flatten,Dense,BatchNormalization,GlobalAvgPool2D\n",
        "from keras.models import Sequential \n",
        "from keras.preprocessing.image import ImageDataGenerator\n",
        "import keras "
      ],
      "execution_count": 44,
      "outputs": []
    },
    {
      "cell_type": "code",
      "metadata": {
        "id": "rhlA1fh5UHwa"
      },
      "source": [
        "#model.compile(optimizer='adam', loss= keras.losses.binary_crossentropy,metrics=['accuracy'])"
      ],
      "execution_count": 45,
      "outputs": []
    },
    {
      "cell_type": "markdown",
      "metadata": {
        "id": "7El3nAScUUnF"
      },
      "source": [
        "## PREPARING OUR DATA USING DATA GENERATOR"
      ]
    },
    {
      "cell_type": "code",
      "metadata": {
        "id": "xrQCOMNzAfcq"
      },
      "source": [
        "from keras.preprocessing.image import ImageDataGenerator\n",
        "from keras.applications.mobilenet import preprocess_input"
      ],
      "execution_count": 46,
      "outputs": []
    },
    {
      "cell_type": "code",
      "metadata": {
        "id": "n-tLbMMJUili"
      },
      "source": [
        "def preprocessingImages1(path): #nischay\n",
        "  \"\"\"\n",
        "  input : Path\n",
        "  output : Pre processed images\n",
        "  \"\"\"\n",
        "  image_data = ImageDataGenerator(zoom_range=0.2, shear_range=0.2,preprocessing_function= preprocess_input , horizontal_flip=True)\n",
        "  image = image_data.flow_from_directory(directory=path , target_size =(224,224), batch_size= 32, class_mode= 'binary')\n",
        "\n",
        "  return image"
      ],
      "execution_count": 47,
      "outputs": []
    },
    {
      "cell_type": "code",
      "metadata": {
        "colab": {
          "base_uri": "https://localhost:8080/"
        },
        "id": "N4L0IW_SUbmR",
        "outputId": "5f89c772-d991-48f7-92fa-c48b82585fc4"
      },
      "source": [
        "path=\"/content/train\"\n",
        "train_data= preprocessingImages1(path)"
      ],
      "execution_count": 48,
      "outputs": [
        {
          "output_type": "stream",
          "text": [
            "Found 3209 images belonging to 2 classes.\n"
          ],
          "name": "stdout"
        }
      ]
    },
    {
      "cell_type": "markdown",
      "metadata": {
        "id": "s-cnIhYIU4Ay"
      },
      "source": [
        "# for testing data preprOcessed data"
      ]
    },
    {
      "cell_type": "code",
      "metadata": {
        "id": "EBDCLZYLU25c"
      },
      "source": [
        "def preprocessingImages2(path):\n",
        "  \"\"\"\n",
        "  input : Path\n",
        "  output : Pre processed images\n",
        "  \"\"\"\n",
        "  image_data = ImageDataGenerator(preprocessing_function= preprocess_input)\n",
        "  image = image_data.flow_from_directory(directory=path , target_size =(224,224), batch_size= 32, class_mode= 'binary')\n",
        "\n",
        "  return image"
      ],
      "execution_count": 49,
      "outputs": []
    },
    {
      "cell_type": "code",
      "metadata": {
        "colab": {
          "base_uri": "https://localhost:8080/"
        },
        "id": "1TDaW3NXVAQ9",
        "outputId": "1c51c2bd-40b0-4f89-919a-ed5ee03c787c"
      },
      "source": [
        "path=\"/content/test\"\n",
        "test_data=preprocessingImages2(path)"
      ],
      "execution_count": 50,
      "outputs": [
        {
          "output_type": "stream",
          "text": [
            "Found 679 images belonging to 2 classes.\n"
          ],
          "name": "stdout"
        }
      ]
    },
    {
      "cell_type": "code",
      "metadata": {
        "colab": {
          "base_uri": "https://localhost:8080/"
        },
        "id": "zgH6qAlSVEU6",
        "outputId": "92c50e38-d6b3-4230-c3cb-10fa1c8fdb12"
      },
      "source": [
        "path=\"/content/val\"\n",
        "val_data=preprocessingImages2(path)"
      ],
      "execution_count": 51,
      "outputs": [
        {
          "output_type": "stream",
          "text": [
            "Found 679 images belonging to 2 classes.\n"
          ],
          "name": "stdout"
        }
      ]
    },
    {
      "cell_type": "code",
      "metadata": {
        "id": "rSF_5i81VIUx"
      },
      "source": [
        "# Early stopping and model check point\n",
        "\n",
        "from keras.callbacks import ModelCheckpoint , EarlyStopping\n",
        "\n",
        "#early stopping\n",
        "\n",
        "es = EarlyStopping(monitor=\"val_accuracy\",min_delta=0.01, patience= 3,verbose=1,mode='auto')\n",
        "\n",
        "#model check point \n",
        "mc = ModelCheckpoint(monitor=\"val_accuracy\",filepath=\"./bestmodel.h5\", save_best_only = True,verbose=1,mode='auto')\n",
        "\n",
        "cd=[es,mc]"
      ],
      "execution_count": 52,
      "outputs": []
    },
    {
      "cell_type": "markdown",
      "metadata": {
        "id": "_qYt4HyCVTS7"
      },
      "source": [
        "# MODEL TRAINING"
      ]
    },
    {
      "cell_type": "code",
      "metadata": {
        "id": "ep3wATkZ9lp_"
      },
      "source": [
        "import numpy as np\n",
        "import matplotlib.pyplot as plt\n",
        "from keras.layers import Flatten, Dense\n",
        "from keras.models import Model, load_model\n",
        "from keras.applications.mobilenet import MobileNet\n",
        "import keras"
      ],
      "execution_count": 53,
      "outputs": []
    },
    {
      "cell_type": "code",
      "metadata": {
        "id": "7rUmvqJ4e4t1"
      },
      "source": [
        "base_model = MobileNet(input_shape=(224,224,3), include_top= False)"
      ],
      "execution_count": 54,
      "outputs": []
    },
    {
      "cell_type": "code",
      "metadata": {
        "id": "kcdEPDRuf5sD"
      },
      "source": [
        "for layer in base_model.layers:\n",
        "  layer.trainable = False"
      ],
      "execution_count": 55,
      "outputs": []
    },
    {
      "cell_type": "code",
      "metadata": {
        "id": "B69YQeC7gQlO"
      },
      "source": [
        "X = Flatten()(base_model.output)\n",
        "X = Dense(units=1, activation='sigmoid')(X)\n",
        "\n",
        "model = Model(base_model.input, X)"
      ],
      "execution_count": 56,
      "outputs": []
    },
    {
      "cell_type": "code",
      "metadata": {
        "colab": {
          "base_uri": "https://localhost:8080/"
        },
        "id": "dK7iXokthFz-",
        "outputId": "b85965bc-e515-43a7-b162-fb426fe23c65"
      },
      "source": [
        "model.summary()"
      ],
      "execution_count": 57,
      "outputs": [
        {
          "output_type": "stream",
          "text": [
            "Model: \"model_1\"\n",
            "_________________________________________________________________\n",
            "Layer (type)                 Output Shape              Param #   \n",
            "=================================================================\n",
            "input_2 (InputLayer)         [(None, 224, 224, 3)]     0         \n",
            "_________________________________________________________________\n",
            "conv1 (Conv2D)               (None, 112, 112, 32)      864       \n",
            "_________________________________________________________________\n",
            "conv1_bn (BatchNormalization (None, 112, 112, 32)      128       \n",
            "_________________________________________________________________\n",
            "conv1_relu (ReLU)            (None, 112, 112, 32)      0         \n",
            "_________________________________________________________________\n",
            "conv_dw_1 (DepthwiseConv2D)  (None, 112, 112, 32)      288       \n",
            "_________________________________________________________________\n",
            "conv_dw_1_bn (BatchNormaliza (None, 112, 112, 32)      128       \n",
            "_________________________________________________________________\n",
            "conv_dw_1_relu (ReLU)        (None, 112, 112, 32)      0         \n",
            "_________________________________________________________________\n",
            "conv_pw_1 (Conv2D)           (None, 112, 112, 64)      2048      \n",
            "_________________________________________________________________\n",
            "conv_pw_1_bn (BatchNormaliza (None, 112, 112, 64)      256       \n",
            "_________________________________________________________________\n",
            "conv_pw_1_relu (ReLU)        (None, 112, 112, 64)      0         \n",
            "_________________________________________________________________\n",
            "conv_pad_2 (ZeroPadding2D)   (None, 113, 113, 64)      0         \n",
            "_________________________________________________________________\n",
            "conv_dw_2 (DepthwiseConv2D)  (None, 56, 56, 64)        576       \n",
            "_________________________________________________________________\n",
            "conv_dw_2_bn (BatchNormaliza (None, 56, 56, 64)        256       \n",
            "_________________________________________________________________\n",
            "conv_dw_2_relu (ReLU)        (None, 56, 56, 64)        0         \n",
            "_________________________________________________________________\n",
            "conv_pw_2 (Conv2D)           (None, 56, 56, 128)       8192      \n",
            "_________________________________________________________________\n",
            "conv_pw_2_bn (BatchNormaliza (None, 56, 56, 128)       512       \n",
            "_________________________________________________________________\n",
            "conv_pw_2_relu (ReLU)        (None, 56, 56, 128)       0         \n",
            "_________________________________________________________________\n",
            "conv_dw_3 (DepthwiseConv2D)  (None, 56, 56, 128)       1152      \n",
            "_________________________________________________________________\n",
            "conv_dw_3_bn (BatchNormaliza (None, 56, 56, 128)       512       \n",
            "_________________________________________________________________\n",
            "conv_dw_3_relu (ReLU)        (None, 56, 56, 128)       0         \n",
            "_________________________________________________________________\n",
            "conv_pw_3 (Conv2D)           (None, 56, 56, 128)       16384     \n",
            "_________________________________________________________________\n",
            "conv_pw_3_bn (BatchNormaliza (None, 56, 56, 128)       512       \n",
            "_________________________________________________________________\n",
            "conv_pw_3_relu (ReLU)        (None, 56, 56, 128)       0         \n",
            "_________________________________________________________________\n",
            "conv_pad_4 (ZeroPadding2D)   (None, 57, 57, 128)       0         \n",
            "_________________________________________________________________\n",
            "conv_dw_4 (DepthwiseConv2D)  (None, 28, 28, 128)       1152      \n",
            "_________________________________________________________________\n",
            "conv_dw_4_bn (BatchNormaliza (None, 28, 28, 128)       512       \n",
            "_________________________________________________________________\n",
            "conv_dw_4_relu (ReLU)        (None, 28, 28, 128)       0         \n",
            "_________________________________________________________________\n",
            "conv_pw_4 (Conv2D)           (None, 28, 28, 256)       32768     \n",
            "_________________________________________________________________\n",
            "conv_pw_4_bn (BatchNormaliza (None, 28, 28, 256)       1024      \n",
            "_________________________________________________________________\n",
            "conv_pw_4_relu (ReLU)        (None, 28, 28, 256)       0         \n",
            "_________________________________________________________________\n",
            "conv_dw_5 (DepthwiseConv2D)  (None, 28, 28, 256)       2304      \n",
            "_________________________________________________________________\n",
            "conv_dw_5_bn (BatchNormaliza (None, 28, 28, 256)       1024      \n",
            "_________________________________________________________________\n",
            "conv_dw_5_relu (ReLU)        (None, 28, 28, 256)       0         \n",
            "_________________________________________________________________\n",
            "conv_pw_5 (Conv2D)           (None, 28, 28, 256)       65536     \n",
            "_________________________________________________________________\n",
            "conv_pw_5_bn (BatchNormaliza (None, 28, 28, 256)       1024      \n",
            "_________________________________________________________________\n",
            "conv_pw_5_relu (ReLU)        (None, 28, 28, 256)       0         \n",
            "_________________________________________________________________\n",
            "conv_pad_6 (ZeroPadding2D)   (None, 29, 29, 256)       0         \n",
            "_________________________________________________________________\n",
            "conv_dw_6 (DepthwiseConv2D)  (None, 14, 14, 256)       2304      \n",
            "_________________________________________________________________\n",
            "conv_dw_6_bn (BatchNormaliza (None, 14, 14, 256)       1024      \n",
            "_________________________________________________________________\n",
            "conv_dw_6_relu (ReLU)        (None, 14, 14, 256)       0         \n",
            "_________________________________________________________________\n",
            "conv_pw_6 (Conv2D)           (None, 14, 14, 512)       131072    \n",
            "_________________________________________________________________\n",
            "conv_pw_6_bn (BatchNormaliza (None, 14, 14, 512)       2048      \n",
            "_________________________________________________________________\n",
            "conv_pw_6_relu (ReLU)        (None, 14, 14, 512)       0         \n",
            "_________________________________________________________________\n",
            "conv_dw_7 (DepthwiseConv2D)  (None, 14, 14, 512)       4608      \n",
            "_________________________________________________________________\n",
            "conv_dw_7_bn (BatchNormaliza (None, 14, 14, 512)       2048      \n",
            "_________________________________________________________________\n",
            "conv_dw_7_relu (ReLU)        (None, 14, 14, 512)       0         \n",
            "_________________________________________________________________\n",
            "conv_pw_7 (Conv2D)           (None, 14, 14, 512)       262144    \n",
            "_________________________________________________________________\n",
            "conv_pw_7_bn (BatchNormaliza (None, 14, 14, 512)       2048      \n",
            "_________________________________________________________________\n",
            "conv_pw_7_relu (ReLU)        (None, 14, 14, 512)       0         \n",
            "_________________________________________________________________\n",
            "conv_dw_8 (DepthwiseConv2D)  (None, 14, 14, 512)       4608      \n",
            "_________________________________________________________________\n",
            "conv_dw_8_bn (BatchNormaliza (None, 14, 14, 512)       2048      \n",
            "_________________________________________________________________\n",
            "conv_dw_8_relu (ReLU)        (None, 14, 14, 512)       0         \n",
            "_________________________________________________________________\n",
            "conv_pw_8 (Conv2D)           (None, 14, 14, 512)       262144    \n",
            "_________________________________________________________________\n",
            "conv_pw_8_bn (BatchNormaliza (None, 14, 14, 512)       2048      \n",
            "_________________________________________________________________\n",
            "conv_pw_8_relu (ReLU)        (None, 14, 14, 512)       0         \n",
            "_________________________________________________________________\n",
            "conv_dw_9 (DepthwiseConv2D)  (None, 14, 14, 512)       4608      \n",
            "_________________________________________________________________\n",
            "conv_dw_9_bn (BatchNormaliza (None, 14, 14, 512)       2048      \n",
            "_________________________________________________________________\n",
            "conv_dw_9_relu (ReLU)        (None, 14, 14, 512)       0         \n",
            "_________________________________________________________________\n",
            "conv_pw_9 (Conv2D)           (None, 14, 14, 512)       262144    \n",
            "_________________________________________________________________\n",
            "conv_pw_9_bn (BatchNormaliza (None, 14, 14, 512)       2048      \n",
            "_________________________________________________________________\n",
            "conv_pw_9_relu (ReLU)        (None, 14, 14, 512)       0         \n",
            "_________________________________________________________________\n",
            "conv_dw_10 (DepthwiseConv2D) (None, 14, 14, 512)       4608      \n",
            "_________________________________________________________________\n",
            "conv_dw_10_bn (BatchNormaliz (None, 14, 14, 512)       2048      \n",
            "_________________________________________________________________\n",
            "conv_dw_10_relu (ReLU)       (None, 14, 14, 512)       0         \n",
            "_________________________________________________________________\n",
            "conv_pw_10 (Conv2D)          (None, 14, 14, 512)       262144    \n",
            "_________________________________________________________________\n",
            "conv_pw_10_bn (BatchNormaliz (None, 14, 14, 512)       2048      \n",
            "_________________________________________________________________\n",
            "conv_pw_10_relu (ReLU)       (None, 14, 14, 512)       0         \n",
            "_________________________________________________________________\n",
            "conv_dw_11 (DepthwiseConv2D) (None, 14, 14, 512)       4608      \n",
            "_________________________________________________________________\n",
            "conv_dw_11_bn (BatchNormaliz (None, 14, 14, 512)       2048      \n",
            "_________________________________________________________________\n",
            "conv_dw_11_relu (ReLU)       (None, 14, 14, 512)       0         \n",
            "_________________________________________________________________\n",
            "conv_pw_11 (Conv2D)          (None, 14, 14, 512)       262144    \n",
            "_________________________________________________________________\n",
            "conv_pw_11_bn (BatchNormaliz (None, 14, 14, 512)       2048      \n",
            "_________________________________________________________________\n",
            "conv_pw_11_relu (ReLU)       (None, 14, 14, 512)       0         \n",
            "_________________________________________________________________\n",
            "conv_pad_12 (ZeroPadding2D)  (None, 15, 15, 512)       0         \n",
            "_________________________________________________________________\n",
            "conv_dw_12 (DepthwiseConv2D) (None, 7, 7, 512)         4608      \n",
            "_________________________________________________________________\n",
            "conv_dw_12_bn (BatchNormaliz (None, 7, 7, 512)         2048      \n",
            "_________________________________________________________________\n",
            "conv_dw_12_relu (ReLU)       (None, 7, 7, 512)         0         \n",
            "_________________________________________________________________\n",
            "conv_pw_12 (Conv2D)          (None, 7, 7, 1024)        524288    \n",
            "_________________________________________________________________\n",
            "conv_pw_12_bn (BatchNormaliz (None, 7, 7, 1024)        4096      \n",
            "_________________________________________________________________\n",
            "conv_pw_12_relu (ReLU)       (None, 7, 7, 1024)        0         \n",
            "_________________________________________________________________\n",
            "conv_dw_13 (DepthwiseConv2D) (None, 7, 7, 1024)        9216      \n",
            "_________________________________________________________________\n",
            "conv_dw_13_bn (BatchNormaliz (None, 7, 7, 1024)        4096      \n",
            "_________________________________________________________________\n",
            "conv_dw_13_relu (ReLU)       (None, 7, 7, 1024)        0         \n",
            "_________________________________________________________________\n",
            "conv_pw_13 (Conv2D)          (None, 7, 7, 1024)        1048576   \n",
            "_________________________________________________________________\n",
            "conv_pw_13_bn (BatchNormaliz (None, 7, 7, 1024)        4096      \n",
            "_________________________________________________________________\n",
            "conv_pw_13_relu (ReLU)       (None, 7, 7, 1024)        0         \n",
            "_________________________________________________________________\n",
            "flatten_1 (Flatten)          (None, 50176)             0         \n",
            "_________________________________________________________________\n",
            "dense_1 (Dense)              (None, 1)                 50177     \n",
            "=================================================================\n",
            "Total params: 3,279,041\n",
            "Trainable params: 50,177\n",
            "Non-trainable params: 3,228,864\n",
            "_________________________________________________________________\n"
          ],
          "name": "stdout"
        }
      ]
    },
    {
      "cell_type": "code",
      "metadata": {
        "id": "TKU3FeKKhNnW"
      },
      "source": [
        "model.compile(optimizer='rmsprop', loss=keras.losses.binary_crossentropy, metrics=['accuracy'])"
      ],
      "execution_count": 58,
      "outputs": []
    },
    {
      "cell_type": "code",
      "metadata": {
        "id": "DLHasDMBiHtB"
      },
      "source": [
        "## Call back\n",
        "from keras.callbacks import ModelCheckpoint, EarlyStopping\n",
        "\n",
        "#model checkpoint\n",
        "mc = ModelCheckpoint(filepath=\"bestmodel.h5\", monitor='val_accuracy', verbose=1, save_best_only= True)\n",
        "\n",
        "#Early stopping\n",
        "es = EarlyStopping(monitor=\"val_accuracy\", min_delta=0.01, patience=3, verbose=1)\n",
        "\n",
        "cb=[mc, es]"
      ],
      "execution_count": 59,
      "outputs": []
    },
    {
      "cell_type": "code",
      "metadata": {
        "colab": {
          "base_uri": "https://localhost:8080/"
        },
        "id": "qeEHnNAph8Jx",
        "outputId": "f10955b0-a092-49b1-9f88-795484a87ed5"
      },
      "source": [
        "hist = model.fit_generator(train_data, steps_per_epoch=8, epochs=30, validation_data=val_data, validation_steps=16, callbacks=cb)"
      ],
      "execution_count": 60,
      "outputs": [
        {
          "output_type": "stream",
          "text": [
            "Epoch 1/30\n",
            "8/8 [==============================] - 9s 933ms/step - loss: 6.0447 - accuracy: 0.6562 - val_loss: 2.7642 - val_accuracy: 0.6797\n",
            "\n",
            "Epoch 00001: val_accuracy improved from -inf to 0.67969, saving model to bestmodel.h5\n",
            "Epoch 2/30\n",
            "8/8 [==============================] - 6s 817ms/step - loss: 2.4787 - accuracy: 0.7305 - val_loss: 0.9495 - val_accuracy: 0.8730\n",
            "\n",
            "Epoch 00002: val_accuracy improved from 0.67969 to 0.87305, saving model to bestmodel.h5\n",
            "Epoch 3/30\n",
            "8/8 [==============================] - 6s 779ms/step - loss: 2.5504 - accuracy: 0.7425 - val_loss: 0.9730 - val_accuracy: 0.8672\n",
            "\n",
            "Epoch 00003: val_accuracy did not improve from 0.87305\n",
            "Epoch 4/30\n",
            "8/8 [==============================] - 6s 802ms/step - loss: 0.9094 - accuracy: 0.8789 - val_loss: 0.3931 - val_accuracy: 0.9316\n",
            "\n",
            "Epoch 00004: val_accuracy improved from 0.87305 to 0.93164, saving model to bestmodel.h5\n",
            "Epoch 5/30\n",
            "8/8 [==============================] - 6s 837ms/step - loss: 0.7240 - accuracy: 0.8945 - val_loss: 0.3293 - val_accuracy: 0.9434\n",
            "\n",
            "Epoch 00005: val_accuracy improved from 0.93164 to 0.94336, saving model to bestmodel.h5\n",
            "Epoch 6/30\n",
            "8/8 [==============================] - 6s 799ms/step - loss: 2.0949 - accuracy: 0.7891 - val_loss: 0.4676 - val_accuracy: 0.9375\n",
            "\n",
            "Epoch 00006: val_accuracy did not improve from 0.94336\n",
            "Epoch 7/30\n",
            "8/8 [==============================] - 6s 805ms/step - loss: 0.2619 - accuracy: 0.9492 - val_loss: 0.5377 - val_accuracy: 0.9258\n",
            "\n",
            "Epoch 00007: val_accuracy did not improve from 0.94336\n",
            "Epoch 8/30\n",
            "8/8 [==============================] - 6s 818ms/step - loss: 1.6788 - accuracy: 0.8555 - val_loss: 7.4430 - val_accuracy: 0.5801\n",
            "\n",
            "Epoch 00008: val_accuracy did not improve from 0.94336\n",
            "Epoch 00008: early stopping\n"
          ],
          "name": "stdout"
        }
      ]
    },
    {
      "cell_type": "code",
      "metadata": {
        "id": "MnXqy6Dpk0Dm"
      },
      "source": [
        "#load best fit model\n",
        "model= load_model(\"/content/bestmodel.h5\")"
      ],
      "execution_count": 61,
      "outputs": []
    },
    {
      "cell_type": "code",
      "metadata": {
        "colab": {
          "base_uri": "https://localhost:8080/"
        },
        "id": "K46bn_USlH5j",
        "outputId": "5d24cc64-c499-4efe-f4b0-e01ce86f07ac"
      },
      "source": [
        "acc= model.evaluate_generator(test_data)[1]\n",
        "\n",
        "print(f\"Our model accuracy is: {acc*100} % \")"
      ],
      "execution_count": 62,
      "outputs": [
        {
          "output_type": "stream",
          "text": [
            "Our model accuracy is: 93.07805299758911 % \n"
          ],
          "name": "stdout"
        }
      ]
    },
    {
      "cell_type": "code",
      "metadata": {
        "colab": {
          "base_uri": "https://localhost:8080/"
        },
        "id": "BZwA2EqBln-s",
        "outputId": "ea1777b2-3643-4c3c-e735-9d7fef878e9a"
      },
      "source": [
        "h = hist.history\n",
        "h.keys()"
      ],
      "execution_count": 63,
      "outputs": [
        {
          "output_type": "execute_result",
          "data": {
            "text/plain": [
              "dict_keys(['loss', 'accuracy', 'val_loss', 'val_accuracy'])"
            ]
          },
          "metadata": {},
          "execution_count": 63
        }
      ]
    },
    {
      "cell_type": "code",
      "metadata": {
        "colab": {
          "base_uri": "https://localhost:8080/",
          "height": 299
        },
        "id": "P-hhqQThl0_Z",
        "outputId": "5086d87f-3983-4318-e588-3fb7aab4a35a"
      },
      "source": [
        "plt.plot(h['accuracy'])\n",
        "plt.plot(h['val_accuracy'], c='red')\n",
        "plt.title(\"acc vs val-acc\")\n",
        "plt.show"
      ],
      "execution_count": 64,
      "outputs": [
        {
          "output_type": "execute_result",
          "data": {
            "text/plain": [
              "<function matplotlib.pyplot.show>"
            ]
          },
          "metadata": {},
          "execution_count": 64
        },
        {
          "output_type": "display_data",
          "data": {
            "image/png": "[encoded data removed]",
            "text/plain": [
              "<Figure size 432x288 with 1 Axes>"
            ]
          },
          "metadata": {
            "needs_background": "light"
          }
        }
      ]
    },
    {
      "cell_type": "code",
      "metadata": {
        "colab": {
          "base_uri": "https://localhost:8080/",
          "height": 299
        },
        "id": "eXgPpoF4mlm5",
        "outputId": "20d36cdb-4c29-46f8-b164-0ee10d4daec0"
      },
      "source": [
        "plt.plot(h['loss'])\n",
        "plt.plot(h['val_loss'], c='red')\n",
        "plt.title(\"loss vs val-loss\")\n",
        "plt.show"
      ],
      "execution_count": 65,
      "outputs": [
        {
          "output_type": "execute_result",
          "data": {
            "text/plain": [
              "<function matplotlib.pyplot.show>"
            ]
          },
          "metadata": {},
          "execution_count": 65
        },
        {
          "output_type": "display_data",
          "data": {
            "image/png": "[encoded data removed]",
            "text/plain": [
              "<Figure size 432x288 with 1 Axes>"
            ]
          },
          "metadata": {
            "needs_background": "light"
          }
        }
      ]
    },
    {
      "cell_type": "code",
      "metadata": {
        "id": "KNoxE4TsnEdc"
      },
      "source": [
        "from keras.preprocessing import image"
      ],
      "execution_count": 66,
      "outputs": []
    },
    {
      "cell_type": "code",
      "metadata": {
        "colab": {
          "base_uri": "https://localhost:8080/",
          "height": 304
        },
        "id": "UgEdqtTpn9TO",
        "outputId": "1c7d1def-26e3-4464-ba27-979ed7630236"
      },
      "source": [
        "#path for the image to see if it predicts the correct class or not\n",
        "\n",
        "path = \"/content/Brain Tumor Data Set/Brain Tumor Data Set/Brain Tumor/Cancer (1224).jpg\"\n",
        "img = image.load_img(path, target_size=(224, 224) )\n",
        "\n",
        "i=image.img_to_array(img)/255\n",
        "#i=preprocess_input(i)\n",
        "input_arr=np.array([i])\n",
        "input_arr.shape\n",
        "\n",
        "\n",
        "predictions=model.predict(input_arr)\n",
        "\n",
        "#predictions=np.argmax(predictions,axis=1)\n",
        "print(predictions)\n",
        "\n",
        "#precentage of cancer \n",
        "if predictions > 0.6:\n",
        "  print(\"non cancerous\")\n",
        "else :\n",
        "  print(\"cancerous\")\n",
        "\n",
        "#to display the image\n",
        "plt.imshow(input_arr[0])\n",
        "plt.show()\n",
        "input_arr.shape\n",
        "input_arr =np.expand_dims(input_arr, axis=0)"
      ],
      "execution_count": 67,
      "outputs": [
        {
          "output_type": "stream",
          "text": [
            "[[1.2479563e-05]]\n",
            "cancerous\n"
          ],
          "name": "stdout"
        },
        {
          "output_type": "display_data",
          "data": {
            "image/png": "[encoded data removed]",
            "text/plain": [
              "<Figure size 432x288 with 1 Axes>"
            ]
          },
          "metadata": {
            "needs_background": "light"
          }
        }
      ]
    }
  ]
}